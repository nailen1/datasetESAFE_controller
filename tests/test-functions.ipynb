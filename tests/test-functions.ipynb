{
 "cells": [
  {
   "cell_type": "markdown",
   "metadata": {},
   "source": [
    "# Test Functions\n",
    "\n",
    "datasetESAFE_controller 패키지의 함수들을 테스트하기 위한 노트북입니다."
   ]
  },
  {
   "cell_type": "code",
   "execution_count": 1,
   "metadata": {},
   "outputs": [
    {
     "name": "stderr",
     "output_type": "stream",
     "text": [
      "INFO:shining_pebbles:shining_pebbles package initialized\n"
     ]
    }
   ],
   "source": [
    "import sys\n",
    "sys.path.append('..')\n",
    "\n",
    "from datasetESAFE_controller import *"
   ]
  },
  {
   "cell_type": "code",
   "execution_count": 2,
   "metadata": {},
   "outputs": [
    {
     "name": "stderr",
     "output_type": "stream",
     "text": [
      "  0%|          | 0/31 [00:00<?, ?it/s]"
     ]
    },
    {
     "name": "stdout",
     "output_type": "stream",
     "text": [
      "WARNING *** file size (14218402) not 512 + multiple of sector size (512)\n",
      "WARNING *** file size (14218402) not 512 + multiple of sector size (512)\n"
     ]
    },
    {
     "name": "stderr",
     "output_type": "stream",
     "text": [
      "  3%|▎         | 1/31 [00:03<01:51,  3.72s/it]"
     ]
    },
    {
     "name": "stdout",
     "output_type": "stream",
     "text": [
      "WARNING *** file size (14206682) not 512 + multiple of sector size (512)\n",
      "WARNING *** file size (14206682) not 512 + multiple of sector size (512)\n"
     ]
    },
    {
     "name": "stderr",
     "output_type": "stream",
     "text": [
      "  6%|▋         | 2/31 [00:07<01:43,  3.56s/it]"
     ]
    },
    {
     "name": "stdout",
     "output_type": "stream",
     "text": [
      "WARNING *** file size (14240793) not 512 + multiple of sector size (512)\n",
      "WARNING *** file size (14240793) not 512 + multiple of sector size (512)\n"
     ]
    },
    {
     "name": "stderr",
     "output_type": "stream",
     "text": [
      " 10%|▉         | 3/31 [00:10<01:36,  3.44s/it]"
     ]
    },
    {
     "name": "stdout",
     "output_type": "stream",
     "text": [
      "WARNING *** file size (14248544) not 512 + multiple of sector size (512)\n",
      "WARNING *** file size (14248544) not 512 + multiple of sector size (512)\n"
     ]
    },
    {
     "name": "stderr",
     "output_type": "stream",
     "text": [
      " 13%|█▎        | 4/31 [00:13<01:32,  3.42s/it]"
     ]
    },
    {
     "name": "stdout",
     "output_type": "stream",
     "text": [
      "WARNING *** file size (14244350) not 512 + multiple of sector size (512)\n",
      "WARNING *** file size (14244350) not 512 + multiple of sector size (512)\n"
     ]
    },
    {
     "name": "stderr",
     "output_type": "stream",
     "text": [
      " 16%|█▌        | 5/31 [00:17<01:27,  3.38s/it]"
     ]
    },
    {
     "name": "stdout",
     "output_type": "stream",
     "text": [
      "WARNING *** file size (14244860) not 512 + multiple of sector size (512)\n",
      "WARNING *** file size (14244860) not 512 + multiple of sector size (512)\n"
     ]
    },
    {
     "name": "stderr",
     "output_type": "stream",
     "text": [
      " 19%|█▉        | 6/31 [00:20<01:23,  3.35s/it]"
     ]
    },
    {
     "name": "stdout",
     "output_type": "stream",
     "text": [
      "WARNING *** file size (14227768) not 512 + multiple of sector size (512)\n",
      "WARNING *** file size (14227768) not 512 + multiple of sector size (512)\n"
     ]
    },
    {
     "name": "stderr",
     "output_type": "stream",
     "text": [
      " 23%|██▎       | 7/31 [00:23<01:20,  3.34s/it]"
     ]
    },
    {
     "name": "stdout",
     "output_type": "stream",
     "text": [
      "WARNING *** file size (14218152) not 512 + multiple of sector size (512)\n",
      "WARNING *** file size (14218152) not 512 + multiple of sector size (512)\n"
     ]
    },
    {
     "name": "stderr",
     "output_type": "stream",
     "text": [
      " 26%|██▌       | 8/31 [00:27<01:16,  3.31s/it]"
     ]
    },
    {
     "name": "stdout",
     "output_type": "stream",
     "text": [
      "WARNING *** file size (14150404) not 512 + multiple of sector size (512)\n",
      "WARNING *** file size (14150404) not 512 + multiple of sector size (512)\n"
     ]
    },
    {
     "name": "stderr",
     "output_type": "stream",
     "text": [
      " 29%|██▉       | 9/31 [00:30<01:12,  3.29s/it]"
     ]
    },
    {
     "name": "stdout",
     "output_type": "stream",
     "text": [
      "WARNING *** file size (14169257) not 512 + multiple of sector size (512)\n",
      "WARNING *** file size (14169257) not 512 + multiple of sector size (512)\n"
     ]
    },
    {
     "name": "stderr",
     "output_type": "stream",
     "text": [
      " 32%|███▏      | 10/31 [00:33<01:08,  3.28s/it]"
     ]
    },
    {
     "name": "stdout",
     "output_type": "stream",
     "text": [
      "WARNING *** file size (14143086) not 512 + multiple of sector size (512)\n",
      "WARNING *** file size (14143086) not 512 + multiple of sector size (512)\n"
     ]
    },
    {
     "name": "stderr",
     "output_type": "stream",
     "text": [
      " 35%|███▌      | 11/31 [00:36<01:06,  3.32s/it]"
     ]
    },
    {
     "name": "stdout",
     "output_type": "stream",
     "text": [
      "WARNING *** file size (14116559) not 512 + multiple of sector size (512)\n",
      "WARNING *** file size (14116559) not 512 + multiple of sector size (512)\n"
     ]
    },
    {
     "name": "stderr",
     "output_type": "stream",
     "text": [
      " 39%|███▊      | 12/31 [00:40<01:02,  3.30s/it]"
     ]
    },
    {
     "name": "stdout",
     "output_type": "stream",
     "text": [
      "WARNING *** file size (14058040) not 512 + multiple of sector size (512)\n",
      "WARNING *** file size (14058040) not 512 + multiple of sector size (512)\n"
     ]
    },
    {
     "name": "stderr",
     "output_type": "stream",
     "text": [
      " 42%|████▏     | 13/31 [00:43<00:58,  3.24s/it]"
     ]
    },
    {
     "name": "stdout",
     "output_type": "stream",
     "text": [
      "WARNING *** file size (14082180) not 512 + multiple of sector size (512)\n",
      "WARNING *** file size (14082180) not 512 + multiple of sector size (512)\n"
     ]
    },
    {
     "name": "stderr",
     "output_type": "stream",
     "text": [
      " 45%|████▌     | 14/31 [00:46<00:55,  3.28s/it]"
     ]
    },
    {
     "name": "stdout",
     "output_type": "stream",
     "text": [
      "WARNING *** file size (14017079) not 512 + multiple of sector size (512)\n",
      "WARNING *** file size (14017079) not 512 + multiple of sector size (512)\n"
     ]
    },
    {
     "name": "stderr",
     "output_type": "stream",
     "text": [
      " 48%|████▊     | 15/31 [00:49<00:51,  3.24s/it]"
     ]
    },
    {
     "name": "stdout",
     "output_type": "stream",
     "text": [
      "WARNING *** file size (14006752) not 512 + multiple of sector size (512)\n",
      "WARNING *** file size (14006752) not 512 + multiple of sector size (512)\n"
     ]
    },
    {
     "name": "stderr",
     "output_type": "stream",
     "text": [
      " 52%|█████▏    | 16/31 [00:52<00:48,  3.22s/it]"
     ]
    },
    {
     "name": "stdout",
     "output_type": "stream",
     "text": [
      "WARNING *** file size (13987309) not 512 + multiple of sector size (512)\n",
      "WARNING *** file size (13987309) not 512 + multiple of sector size (512)\n"
     ]
    },
    {
     "name": "stderr",
     "output_type": "stream",
     "text": [
      " 55%|█████▍    | 17/31 [00:56<00:44,  3.21s/it]"
     ]
    },
    {
     "name": "stdout",
     "output_type": "stream",
     "text": [
      "WARNING *** file size (13953514) not 512 + multiple of sector size (512)\n",
      "WARNING *** file size (13953514) not 512 + multiple of sector size (512)\n"
     ]
    },
    {
     "name": "stderr",
     "output_type": "stream",
     "text": [
      " 58%|█████▊    | 18/31 [00:59<00:41,  3.21s/it]"
     ]
    },
    {
     "name": "stdout",
     "output_type": "stream",
     "text": [
      "WARNING *** file size (13978808) not 512 + multiple of sector size (512)\n",
      "WARNING *** file size (13978808) not 512 + multiple of sector size (512)\n"
     ]
    },
    {
     "name": "stderr",
     "output_type": "stream",
     "text": [
      " 61%|██████▏   | 19/31 [01:02<00:38,  3.22s/it]"
     ]
    },
    {
     "name": "stdout",
     "output_type": "stream",
     "text": [
      "WARNING *** file size (13968746) not 512 + multiple of sector size (512)\n",
      "WARNING *** file size (13968746) not 512 + multiple of sector size (512)\n"
     ]
    },
    {
     "name": "stderr",
     "output_type": "stream",
     "text": [
      " 65%|██████▍   | 20/31 [01:05<00:35,  3.21s/it]"
     ]
    },
    {
     "name": "stdout",
     "output_type": "stream",
     "text": [
      "WARNING *** file size (13940733) not 512 + multiple of sector size (512)\n",
      "WARNING *** file size (13940733) not 512 + multiple of sector size (512)\n"
     ]
    },
    {
     "name": "stderr",
     "output_type": "stream",
     "text": [
      " 68%|██████▊   | 21/31 [01:09<00:32,  3.26s/it]"
     ]
    },
    {
     "name": "stdout",
     "output_type": "stream",
     "text": [
      "WARNING *** file size (13929556) not 512 + multiple of sector size (512)\n",
      "WARNING *** file size (13929556) not 512 + multiple of sector size (512)\n"
     ]
    },
    {
     "name": "stderr",
     "output_type": "stream",
     "text": [
      " 71%|███████   | 22/31 [01:12<00:29,  3.25s/it]"
     ]
    },
    {
     "name": "stdout",
     "output_type": "stream",
     "text": [
      "WARNING *** file size (13929663) not 512 + multiple of sector size (512)\n",
      "WARNING *** file size (13929663) not 512 + multiple of sector size (512)\n"
     ]
    },
    {
     "name": "stderr",
     "output_type": "stream",
     "text": [
      " 74%|███████▍  | 23/31 [01:15<00:25,  3.24s/it]"
     ]
    },
    {
     "name": "stdout",
     "output_type": "stream",
     "text": [
      "WARNING *** file size (13936272) not 512 + multiple of sector size (512)\n",
      "WARNING *** file size (13936272) not 512 + multiple of sector size (512)\n"
     ]
    },
    {
     "name": "stderr",
     "output_type": "stream",
     "text": [
      " 77%|███████▋  | 24/31 [01:18<00:22,  3.21s/it]"
     ]
    },
    {
     "name": "stdout",
     "output_type": "stream",
     "text": [
      "WARNING *** file size (13949602) not 512 + multiple of sector size (512)\n",
      "WARNING *** file size (13949602) not 512 + multiple of sector size (512)\n"
     ]
    },
    {
     "name": "stderr",
     "output_type": "stream",
     "text": [
      " 81%|████████  | 25/31 [01:22<00:19,  3.25s/it]"
     ]
    },
    {
     "name": "stdout",
     "output_type": "stream",
     "text": [
      "WARNING *** file size (13909433) not 512 + multiple of sector size (512)\n",
      "WARNING *** file size (13909433) not 512 + multiple of sector size (512)\n"
     ]
    },
    {
     "name": "stderr",
     "output_type": "stream",
     "text": [
      " 84%|████████▍ | 26/31 [01:25<00:16,  3.21s/it]"
     ]
    },
    {
     "name": "stdout",
     "output_type": "stream",
     "text": [
      "WARNING *** file size (13901852) not 512 + multiple of sector size (512)\n",
      "WARNING *** file size (13901852) not 512 + multiple of sector size (512)\n"
     ]
    },
    {
     "name": "stderr",
     "output_type": "stream",
     "text": [
      " 87%|████████▋ | 27/31 [01:28<00:12,  3.17s/it]"
     ]
    },
    {
     "name": "stdout",
     "output_type": "stream",
     "text": [
      "WARNING *** file size (13887089) not 512 + multiple of sector size (512)\n",
      "WARNING *** file size (13887089) not 512 + multiple of sector size (512)\n"
     ]
    },
    {
     "name": "stderr",
     "output_type": "stream",
     "text": [
      " 90%|█████████ | 28/31 [01:31<00:09,  3.23s/it]"
     ]
    },
    {
     "name": "stdout",
     "output_type": "stream",
     "text": [
      "WARNING *** file size (13915263) not 512 + multiple of sector size (512)\n",
      "WARNING *** file size (13915263) not 512 + multiple of sector size (512)\n"
     ]
    },
    {
     "name": "stderr",
     "output_type": "stream",
     "text": [
      " 94%|█████████▎| 29/31 [01:34<00:06,  3.22s/it]"
     ]
    },
    {
     "name": "stdout",
     "output_type": "stream",
     "text": [
      "WARNING *** file size (13900185) not 512 + multiple of sector size (512)\n",
      "WARNING *** file size (13900185) not 512 + multiple of sector size (512)\n"
     ]
    },
    {
     "name": "stderr",
     "output_type": "stream",
     "text": [
      " 97%|█████████▋| 30/31 [01:38<00:03,  3.28s/it]"
     ]
    },
    {
     "name": "stdout",
     "output_type": "stream",
     "text": [
      "WARNING *** file size (13877839) not 512 + multiple of sector size (512)\n",
      "WARNING *** file size (13877839) not 512 + multiple of sector size (512)\n"
     ]
    },
    {
     "name": "stderr",
     "output_type": "stream",
     "text": [
      "100%|██████████| 31/31 [01:41<00:00,  3.29s/it]\n"
     ]
    }
   ],
   "source": [
    "es = EsafeDatasetScanner()"
   ]
  },
  {
   "cell_type": "code",
   "execution_count": 3,
   "metadata": {},
   "outputs": [
    {
     "name": "stderr",
     "output_type": "stream",
     "text": [
      "31it [00:00, 1370.24it/s]"
     ]
    },
    {
     "name": "stdout",
     "output_type": "stream",
     "text": [
      "..\\data\\dataset-menuESAFE500068\\BCI_REDM08003V_20250124190645.xls ..\\data\\dataset-menuESAFE500068\\menuESAFE500068-account000000000-at20250110-save2025012419.xls\n",
      "Renamed: ..\\data\\dataset-menuESAFE500068\\BCI_REDM08003V_20250124190645.xls -> ..\\data\\dataset-menuESAFE500068\\menuESAFE500068-account000000000-at20250110-save2025012419.xls\n",
      "..\\data\\dataset-menuESAFE500068\\BCI_REDM08003V_20250124190801.xls ..\\data\\dataset-menuESAFE500068\\menuESAFE500068-account000000000-at20250103-save2025012419.xls\n",
      "Renamed: ..\\data\\dataset-menuESAFE500068\\BCI_REDM08003V_20250124190801.xls -> ..\\data\\dataset-menuESAFE500068\\menuESAFE500068-account000000000-at20250103-save2025012419.xls\n",
      "..\\data\\dataset-menuESAFE500068\\BCI_REDM08003V_20250124191427.xls ..\\data\\dataset-menuESAFE500068\\menuESAFE500068-account000000000-at20241227-save2025012419.xls\n",
      "Renamed: ..\\data\\dataset-menuESAFE500068\\BCI_REDM08003V_20250124191427.xls -> ..\\data\\dataset-menuESAFE500068\\menuESAFE500068-account000000000-at20241227-save2025012419.xls\n",
      "..\\data\\dataset-menuESAFE500068\\BCI_REDM08003V_20250124191543.xls ..\\data\\dataset-menuESAFE500068\\menuESAFE500068-account000000000-at20241220-save2025012419.xls\n",
      "Renamed: ..\\data\\dataset-menuESAFE500068\\BCI_REDM08003V_20250124191543.xls -> ..\\data\\dataset-menuESAFE500068\\menuESAFE500068-account000000000-at20241220-save2025012419.xls\n",
      "..\\data\\dataset-menuESAFE500068\\BCI_REDM08003V_20250124191659.xls ..\\data\\dataset-menuESAFE500068\\menuESAFE500068-account000000000-at20241213-save2025012419.xls\n",
      "Renamed: ..\\data\\dataset-menuESAFE500068\\BCI_REDM08003V_20250124191659.xls -> ..\\data\\dataset-menuESAFE500068\\menuESAFE500068-account000000000-at20241213-save2025012419.xls\n",
      "..\\data\\dataset-menuESAFE500068\\BCI_REDM08003V_20250124191815.xls ..\\data\\dataset-menuESAFE500068\\menuESAFE500068-account000000000-at20241206-save2025012419.xls\n",
      "Renamed: ..\\data\\dataset-menuESAFE500068\\BCI_REDM08003V_20250124191815.xls -> ..\\data\\dataset-menuESAFE500068\\menuESAFE500068-account000000000-at20241206-save2025012419.xls\n",
      "..\\data\\dataset-menuESAFE500068\\BCI_REDM08003V_20250124191931.xls ..\\data\\dataset-menuESAFE500068\\menuESAFE500068-account000000000-at20241129-save2025012419.xls\n",
      "Renamed: ..\\data\\dataset-menuESAFE500068\\BCI_REDM08003V_20250124191931.xls -> ..\\data\\dataset-menuESAFE500068\\menuESAFE500068-account000000000-at20241129-save2025012419.xls\n",
      "..\\data\\dataset-menuESAFE500068\\BCI_REDM08003V_20250124192203.xls ..\\data\\dataset-menuESAFE500068\\menuESAFE500068-account000000000-at20241115-save2025012419.xls\n",
      "Renamed: ..\\data\\dataset-menuESAFE500068\\BCI_REDM08003V_20250124192203.xls -> ..\\data\\dataset-menuESAFE500068\\menuESAFE500068-account000000000-at20241115-save2025012419.xls\n",
      "..\\data\\dataset-menuESAFE500068\\BCI_REDM08003V_20250124192551.xls ..\\data\\dataset-menuESAFE500068\\menuESAFE500068-account000000000-at20241025-save2025012419.xls\n",
      "Renamed: ..\\data\\dataset-menuESAFE500068\\BCI_REDM08003V_20250124192551.xls -> ..\\data\\dataset-menuESAFE500068\\menuESAFE500068-account000000000-at20241025-save2025012419.xls\n",
      "..\\data\\dataset-menuESAFE500068\\BCI_REDM08003V_20250125061423.xls ..\\data\\dataset-menuESAFE500068\\menuESAFE500068-account000000000-at20241018-save2025012506.xls\n",
      "Renamed: ..\\data\\dataset-menuESAFE500068\\BCI_REDM08003V_20250125061423.xls -> ..\\data\\dataset-menuESAFE500068\\menuESAFE500068-account000000000-at20241018-save2025012506.xls\n",
      "..\\data\\dataset-menuESAFE500068\\BCI_REDM08003V_20250125095111.xls ..\\data\\dataset-menuESAFE500068\\menuESAFE500068-account000000000-at20241004-save2025012509.xls\n",
      "Renamed: ..\\data\\dataset-menuESAFE500068\\BCI_REDM08003V_20250125095111.xls -> ..\\data\\dataset-menuESAFE500068\\menuESAFE500068-account000000000-at20241004-save2025012509.xls\n",
      "..\\data\\dataset-menuESAFE500068\\BCI_REDM08003V_20250125095227.xls ..\\data\\dataset-menuESAFE500068\\menuESAFE500068-account000000000-at20240927-save2025012509.xls\n",
      "Renamed: ..\\data\\dataset-menuESAFE500068\\BCI_REDM08003V_20250125095227.xls -> ..\\data\\dataset-menuESAFE500068\\menuESAFE500068-account000000000-at20240927-save2025012509.xls\n",
      "..\\data\\dataset-menuESAFE500068\\BCI_REDM08003V_20250125095341.xls ..\\data\\dataset-menuESAFE500068\\menuESAFE500068-account000000000-at20240920-save2025012509.xls\n",
      "Renamed: ..\\data\\dataset-menuESAFE500068\\BCI_REDM08003V_20250125095341.xls -> ..\\data\\dataset-menuESAFE500068\\menuESAFE500068-account000000000-at20240920-save2025012509.xls\n",
      "..\\data\\dataset-menuESAFE500068\\BCI_REDM08003V_20250125095457.xls ..\\data\\dataset-menuESAFE500068\\menuESAFE500068-account000000000-at20240913-save2025012509.xls\n",
      "Renamed: ..\\data\\dataset-menuESAFE500068\\BCI_REDM08003V_20250125095457.xls -> ..\\data\\dataset-menuESAFE500068\\menuESAFE500068-account000000000-at20240913-save2025012509.xls\n",
      "..\\data\\dataset-menuESAFE500068\\BCI_REDM08003V_20250125095612.xls ..\\data\\dataset-menuESAFE500068\\menuESAFE500068-account000000000-at20240906-save2025012509.xls\n",
      "Renamed: ..\\data\\dataset-menuESAFE500068\\BCI_REDM08003V_20250125095612.xls -> ..\\data\\dataset-menuESAFE500068\\menuESAFE500068-account000000000-at20240906-save2025012509.xls\n",
      "..\\data\\dataset-menuESAFE500068\\BCI_REDM08003V_20250125095728.xls ..\\data\\dataset-menuESAFE500068\\menuESAFE500068-account000000000-at20240830-save2025012509.xls\n",
      "Renamed: ..\\data\\dataset-menuESAFE500068\\BCI_REDM08003V_20250125095728.xls -> ..\\data\\dataset-menuESAFE500068\\menuESAFE500068-account000000000-at20240830-save2025012509.xls\n",
      "..\\data\\dataset-menuESAFE500068\\BCI_REDM08003V_20250125095844.xls ..\\data\\dataset-menuESAFE500068\\menuESAFE500068-account000000000-at20240823-save2025012509.xls\n",
      "Renamed: ..\\data\\dataset-menuESAFE500068\\BCI_REDM08003V_20250125095844.xls -> ..\\data\\dataset-menuESAFE500068\\menuESAFE500068-account000000000-at20240823-save2025012509.xls\n",
      "..\\data\\dataset-menuESAFE500068\\BCI_REDM08003V_20250125100000.xls ..\\data\\dataset-menuESAFE500068\\menuESAFE500068-account000000000-at20240816-save2025012510.xls\n",
      "Renamed: ..\\data\\dataset-menuESAFE500068\\BCI_REDM08003V_20250125100000.xls -> ..\\data\\dataset-menuESAFE500068\\menuESAFE500068-account000000000-at20240816-save2025012510.xls\n",
      "..\\data\\dataset-menuESAFE500068\\BCI_REDM08003V_20250125100116.xls ..\\data\\dataset-menuESAFE500068\\menuESAFE500068-account000000000-at20240809-save2025012510.xls\n",
      "Renamed: ..\\data\\dataset-menuESAFE500068\\BCI_REDM08003V_20250125100116.xls -> ..\\data\\dataset-menuESAFE500068\\menuESAFE500068-account000000000-at20240809-save2025012510.xls\n",
      "..\\data\\dataset-menuESAFE500068\\BCI_REDM08003V_20250125100232.xls ..\\data\\dataset-menuESAFE500068\\menuESAFE500068-account000000000-at20240802-save2025012510.xls\n",
      "Renamed: ..\\data\\dataset-menuESAFE500068\\BCI_REDM08003V_20250125100232.xls -> ..\\data\\dataset-menuESAFE500068\\menuESAFE500068-account000000000-at20240802-save2025012510.xls\n",
      "..\\data\\dataset-menuESAFE500068\\BCI_REDM08003V_20250125100348.xls ..\\data\\dataset-menuESAFE500068\\menuESAFE500068-account000000000-at20240726-save2025012510.xls\n",
      "Renamed: ..\\data\\dataset-menuESAFE500068\\BCI_REDM08003V_20250125100348.xls -> ..\\data\\dataset-menuESAFE500068\\menuESAFE500068-account000000000-at20240726-save2025012510.xls\n",
      "..\\data\\dataset-menuESAFE500068\\BCI_REDM08003V_20250125100504.xls ..\\data\\dataset-menuESAFE500068\\menuESAFE500068-account000000000-at20240719-save2025012510.xls\n",
      "Renamed: ..\\data\\dataset-menuESAFE500068\\BCI_REDM08003V_20250125100504.xls -> ..\\data\\dataset-menuESAFE500068\\menuESAFE500068-account000000000-at20240719-save2025012510.xls\n",
      "..\\data\\dataset-menuESAFE500068\\BCI_REDM08003V_20250125100620.xls ..\\data\\dataset-menuESAFE500068\\menuESAFE500068-account000000000-at20240712-save2025012510.xls\n",
      "Renamed: ..\\data\\dataset-menuESAFE500068\\BCI_REDM08003V_20250125100620.xls -> ..\\data\\dataset-menuESAFE500068\\menuESAFE500068-account000000000-at20240712-save2025012510.xls\n",
      "..\\data\\dataset-menuESAFE500068\\BCI_REDM08003V_20250125100736.xls ..\\data\\dataset-menuESAFE500068\\menuESAFE500068-account000000000-at20240705-save2025012510.xls\n",
      "Renamed: ..\\data\\dataset-menuESAFE500068\\BCI_REDM08003V_20250125100736.xls -> ..\\data\\dataset-menuESAFE500068\\menuESAFE500068-account000000000-at20240705-save2025012510.xls\n",
      "..\\data\\dataset-menuESAFE500068\\BCI_REDM08003V_20250125100853.xls ..\\data\\dataset-menuESAFE500068\\menuESAFE500068-account000000000-at20240628-save2025012510.xls\n",
      "Renamed: ..\\data\\dataset-menuESAFE500068\\BCI_REDM08003V_20250125100853.xls -> ..\\data\\dataset-menuESAFE500068\\menuESAFE500068-account000000000-at20240628-save2025012510.xls\n",
      "..\\data\\dataset-menuESAFE500068\\BCI_REDM08003V_20250125101009.xls ..\\data\\dataset-menuESAFE500068\\menuESAFE500068-account000000000-at20240621-save2025012510.xls\n",
      "Renamed: ..\\data\\dataset-menuESAFE500068\\BCI_REDM08003V_20250125101009.xls -> ..\\data\\dataset-menuESAFE500068\\menuESAFE500068-account000000000-at20240621-save2025012510.xls\n",
      "..\\data\\dataset-menuESAFE500068\\BCI_REDM08003V_20250125101124.xls ..\\data\\dataset-menuESAFE500068\\menuESAFE500068-account000000000-at20240614-save2025012510.xls\n",
      "Renamed: ..\\data\\dataset-menuESAFE500068\\BCI_REDM08003V_20250125101124.xls -> ..\\data\\dataset-menuESAFE500068\\menuESAFE500068-account000000000-at20240614-save2025012510.xls\n",
      "..\\data\\dataset-menuESAFE500068\\BCI_REDM08003V_20250125101241.xls ..\\data\\dataset-menuESAFE500068\\menuESAFE500068-account000000000-at20240607-save2025012510.xls\n",
      "Renamed: ..\\data\\dataset-menuESAFE500068\\BCI_REDM08003V_20250125101241.xls -> ..\\data\\dataset-menuESAFE500068\\menuESAFE500068-account000000000-at20240607-save2025012510.xls\n",
      "..\\data\\dataset-menuESAFE500068\\BCI_REDM08003V_20250125101357.xls ..\\data\\dataset-menuESAFE500068\\menuESAFE500068-account000000000-at20240531-save2025012510.xls\n",
      "Renamed: ..\\data\\dataset-menuESAFE500068\\BCI_REDM08003V_20250125101357.xls -> ..\\data\\dataset-menuESAFE500068\\menuESAFE500068-account000000000-at20240531-save2025012510.xls\n",
      "..\\data\\dataset-menuESAFE500068\\BCI_REDM08003V_20250125101513.xls ..\\data\\dataset-menuESAFE500068\\menuESAFE500068-account000000000-at20240524-save2025012510.xls\n",
      "Renamed: ..\\data\\dataset-menuESAFE500068\\BCI_REDM08003V_20250125101513.xls -> ..\\data\\dataset-menuESAFE500068\\menuESAFE500068-account000000000-at20240524-save2025012510.xls\n",
      "..\\data\\dataset-menuESAFE500068\\BCI_REDM08003V_20250125101745.xls ..\\data\\dataset-menuESAFE500068\\menuESAFE500068-account000000000-at20240510-save2025012510.xls\n",
      "Renamed: ..\\data\\dataset-menuESAFE500068\\BCI_REDM08003V_20250125101745.xls -> ..\\data\\dataset-menuESAFE500068\\menuESAFE500068-account000000000-at20240510-save2025012510.xls\n"
     ]
    },
    {
     "name": "stderr",
     "output_type": "stream",
     "text": [
      "\n"
     ]
    }
   ],
   "source": [
    "es.rename_all()"
   ]
  },
  {
   "cell_type": "code",
   "execution_count": 29,
   "metadata": {},
   "outputs": [],
   "source": [
    "from shining_pebbles import scan_files_including_regex\n",
    "import os\n",
    "from tqdm import tqdm"
   ]
  },
  {
   "cell_type": "code",
   "execution_count": 43,
   "metadata": {},
   "outputs": [],
   "source": [
    "MENU_CODE_ESAFE_PRICE = 'ESAFE500068'\n",
    "ACCOUNT_CODE_TOTAL = '000000000'\n",
    "BASE_PATH = '../data/dataset-menuESAFE500068'\n",
    "ESAFE_RAW_DATASET_PREFIX = 'BCI_REDM'\n",
    "\n",
    "def get_file_path(file_name):\n",
    "    return os.path.join(BASE_PATH, file_name)\n",
    "\n",
    "def get_date_ref_from_df(df):\n",
    "    date = df['영업일'].unique()[0]\n",
    "    return date\n",
    "\n",
    "def get_date_save_from_file_name(file_name):\n",
    "    date_save = file_name.split('_')[-1].replace('.xls', '')[:10]\n",
    "    return date_save\n",
    "\n",
    "def get_file_name_format(file_name, account_code=ACCOUNT_CODE_TOTAL):\n",
    "    df = open_excel_as_df(os.path.join(BASE_PATH, file_name))\n",
    "    date_ref = get_date_ref_from_df(df)\n",
    "    date_save = get_date_save_from_file_name(file_name)\n",
    "    file_name = f'menu{MENU_CODE_ESAFE_PRICE}-account{ACCOUNT_CODE_TOTAL}-at{date_ref}-save{date_save}.xls'\n",
    "    return file_name\n",
    "\n",
    "class EsafeDatasetController:\n",
    "    def __init__(self, file_name, account_code=ACCOUNT_CODE_TOTAL):\n",
    "        self.file_name = file_name\n",
    "        self.file_path = get_file_path(file_name)\n",
    "        self.df = open_excel_as_df(self.file_path)\n",
    "        self.date_ref = get_date_ref_from_df(self.df)\n",
    "        self.date_save = get_date_save_from_file_name(self.file_name)\n",
    "        self.file_name = get_file_name_format(self.file_name)\n",
    "\n",
    "# alias\n",
    "ESAFE = EsafeDatasetController\n",
    "\n",
    "def rename_file(old_name, new_name, folder_path=BASE_PATH):\n",
    "    old_path = Path(os.path.join(folder_path, old_name))\n",
    "    new_path = Path(os.path.join(folder_path, new_name))\n",
    "\n",
    "    print(old_path, new_path)\n",
    "    if not old_path.exists():\n",
    "        raise FileNotFoundError(f\"File not found: {old_path}\")\n",
    "\n",
    "    old_path.rename(new_path)\n",
    "    print(f\"Renamed: {old_path} -> {new_path}\")\n",
    "    return None\n",
    "\n",
    "class EsafeDatasetScanner:\n",
    "    def __init__(self, folder_path=BASE_PATH):\n",
    "        self.folder_path = folder_path\n",
    "        self.file_names_raw = scan_files_including_regex(self.folder_path, ESAFE_RAW_DATASET_PREFIX)\n",
    "        self.file_names_canonical = [EsafeDatasetController(file_name).file_name for file_name in tqdm(self.file_names_raw)]\n",
    "\n",
    "    def rename_all(self):\n",
    "        for old, new in tqdm(zip(self.file_names_raw, self.file_names_canonical)):\n",
    "\n",
    "            rename_file(old, new)\n",
    "        return None\n"
   ]
  },
  {
   "cell_type": "code",
   "execution_count": 45,
   "metadata": {},
   "outputs": [
    {
     "name": "stderr",
     "output_type": "stream",
     "text": [
      "  0%|          | 0/31 [00:00<?, ?it/s]"
     ]
    },
    {
     "name": "stdout",
     "output_type": "stream",
     "text": [
      "WARNING *** file size (14218402) not 512 + multiple of sector size (512)\n",
      "WARNING *** file size (14218402) not 512 + multiple of sector size (512)\n"
     ]
    },
    {
     "name": "stderr",
     "output_type": "stream",
     "text": [
      "  3%|▎         | 1/31 [00:03<01:48,  3.61s/it]"
     ]
    },
    {
     "name": "stdout",
     "output_type": "stream",
     "text": [
      "WARNING *** file size (14206682) not 512 + multiple of sector size (512)\n",
      "WARNING *** file size (14206682) not 512 + multiple of sector size (512)\n"
     ]
    },
    {
     "name": "stderr",
     "output_type": "stream",
     "text": [
      "  6%|▋         | 2/31 [00:07<01:56,  4.01s/it]"
     ]
    },
    {
     "name": "stdout",
     "output_type": "stream",
     "text": [
      "WARNING *** file size (14240793) not 512 + multiple of sector size (512)\n",
      "WARNING *** file size (14240793) not 512 + multiple of sector size (512)\n"
     ]
    },
    {
     "name": "stderr",
     "output_type": "stream",
     "text": [
      " 10%|▉         | 3/31 [00:11<01:49,  3.90s/it]"
     ]
    },
    {
     "name": "stdout",
     "output_type": "stream",
     "text": [
      "WARNING *** file size (14248544) not 512 + multiple of sector size (512)\n",
      "WARNING *** file size (14248544) not 512 + multiple of sector size (512)\n"
     ]
    },
    {
     "name": "stderr",
     "output_type": "stream",
     "text": [
      " 13%|█▎        | 4/31 [00:15<01:46,  3.96s/it]"
     ]
    },
    {
     "name": "stdout",
     "output_type": "stream",
     "text": [
      "WARNING *** file size (14244350) not 512 + multiple of sector size (512)\n",
      "WARNING *** file size (14244350) not 512 + multiple of sector size (512)\n"
     ]
    },
    {
     "name": "stderr",
     "output_type": "stream",
     "text": [
      " 16%|█▌        | 5/31 [00:19<01:38,  3.80s/it]"
     ]
    },
    {
     "name": "stdout",
     "output_type": "stream",
     "text": [
      "WARNING *** file size (14244860) not 512 + multiple of sector size (512)\n",
      "WARNING *** file size (14244860) not 512 + multiple of sector size (512)\n"
     ]
    },
    {
     "name": "stderr",
     "output_type": "stream",
     "text": [
      " 19%|█▉        | 6/31 [00:22<01:28,  3.53s/it]"
     ]
    },
    {
     "name": "stdout",
     "output_type": "stream",
     "text": [
      "WARNING *** file size (14227768) not 512 + multiple of sector size (512)\n",
      "WARNING *** file size (14227768) not 512 + multiple of sector size (512)\n"
     ]
    },
    {
     "name": "stderr",
     "output_type": "stream",
     "text": [
      " 23%|██▎       | 7/31 [00:25<01:25,  3.56s/it]"
     ]
    },
    {
     "name": "stdout",
     "output_type": "stream",
     "text": [
      "WARNING *** file size (14218152) not 512 + multiple of sector size (512)\n",
      "WARNING *** file size (14218152) not 512 + multiple of sector size (512)\n"
     ]
    },
    {
     "name": "stderr",
     "output_type": "stream",
     "text": [
      " 26%|██▌       | 8/31 [00:29<01:19,  3.44s/it]"
     ]
    },
    {
     "name": "stdout",
     "output_type": "stream",
     "text": [
      "WARNING *** file size (14150404) not 512 + multiple of sector size (512)\n",
      "WARNING *** file size (14150404) not 512 + multiple of sector size (512)\n"
     ]
    },
    {
     "name": "stderr",
     "output_type": "stream",
     "text": [
      " 29%|██▉       | 9/31 [00:31<01:12,  3.28s/it]"
     ]
    },
    {
     "name": "stdout",
     "output_type": "stream",
     "text": [
      "WARNING *** file size (14169257) not 512 + multiple of sector size (512)\n",
      "WARNING *** file size (14169257) not 512 + multiple of sector size (512)\n"
     ]
    },
    {
     "name": "stderr",
     "output_type": "stream",
     "text": [
      " 32%|███▏      | 10/31 [00:35<01:07,  3.20s/it]"
     ]
    },
    {
     "name": "stdout",
     "output_type": "stream",
     "text": [
      "WARNING *** file size (14143086) not 512 + multiple of sector size (512)\n",
      "WARNING *** file size (14143086) not 512 + multiple of sector size (512)\n"
     ]
    },
    {
     "name": "stderr",
     "output_type": "stream",
     "text": [
      " 35%|███▌      | 11/31 [00:39<01:10,  3.52s/it]"
     ]
    },
    {
     "name": "stdout",
     "output_type": "stream",
     "text": [
      "WARNING *** file size (14116559) not 512 + multiple of sector size (512)\n",
      "WARNING *** file size (14116559) not 512 + multiple of sector size (512)\n"
     ]
    },
    {
     "name": "stderr",
     "output_type": "stream",
     "text": [
      " 39%|███▊      | 12/31 [00:43<01:09,  3.64s/it]"
     ]
    },
    {
     "name": "stdout",
     "output_type": "stream",
     "text": [
      "WARNING *** file size (14058040) not 512 + multiple of sector size (512)\n",
      "WARNING *** file size (14058040) not 512 + multiple of sector size (512)\n"
     ]
    },
    {
     "name": "stderr",
     "output_type": "stream",
     "text": [
      " 42%|████▏     | 13/31 [00:46<01:03,  3.55s/it]"
     ]
    },
    {
     "name": "stdout",
     "output_type": "stream",
     "text": [
      "WARNING *** file size (14082180) not 512 + multiple of sector size (512)\n",
      "WARNING *** file size (14082180) not 512 + multiple of sector size (512)\n"
     ]
    },
    {
     "name": "stderr",
     "output_type": "stream",
     "text": [
      " 45%|████▌     | 14/31 [00:49<00:57,  3.40s/it]"
     ]
    },
    {
     "name": "stdout",
     "output_type": "stream",
     "text": [
      "WARNING *** file size (14017079) not 512 + multiple of sector size (512)\n",
      "WARNING *** file size (14017079) not 512 + multiple of sector size (512)\n"
     ]
    },
    {
     "name": "stderr",
     "output_type": "stream",
     "text": [
      " 48%|████▊     | 15/31 [00:53<00:57,  3.59s/it]"
     ]
    },
    {
     "name": "stdout",
     "output_type": "stream",
     "text": [
      "WARNING *** file size (14006752) not 512 + multiple of sector size (512)\n",
      "WARNING *** file size (14006752) not 512 + multiple of sector size (512)\n"
     ]
    },
    {
     "name": "stderr",
     "output_type": "stream",
     "text": [
      " 52%|█████▏    | 16/31 [00:57<00:54,  3.63s/it]"
     ]
    },
    {
     "name": "stdout",
     "output_type": "stream",
     "text": [
      "WARNING *** file size (13987309) not 512 + multiple of sector size (512)\n",
      "WARNING *** file size (13987309) not 512 + multiple of sector size (512)\n"
     ]
    },
    {
     "name": "stderr",
     "output_type": "stream",
     "text": [
      " 55%|█████▍    | 17/31 [01:01<00:51,  3.71s/it]"
     ]
    },
    {
     "name": "stdout",
     "output_type": "stream",
     "text": [
      "WARNING *** file size (13953514) not 512 + multiple of sector size (512)\n",
      "WARNING *** file size (13953514) not 512 + multiple of sector size (512)\n"
     ]
    },
    {
     "name": "stderr",
     "output_type": "stream",
     "text": [
      " 58%|█████▊    | 18/31 [01:04<00:47,  3.64s/it]"
     ]
    },
    {
     "name": "stdout",
     "output_type": "stream",
     "text": [
      "WARNING *** file size (13978808) not 512 + multiple of sector size (512)\n",
      "WARNING *** file size (13978808) not 512 + multiple of sector size (512)\n"
     ]
    },
    {
     "name": "stderr",
     "output_type": "stream",
     "text": [
      " 61%|██████▏   | 19/31 [01:10<00:50,  4.21s/it]"
     ]
    },
    {
     "name": "stdout",
     "output_type": "stream",
     "text": [
      "WARNING *** file size (13968746) not 512 + multiple of sector size (512)\n",
      "WARNING *** file size (13968746) not 512 + multiple of sector size (512)\n"
     ]
    },
    {
     "name": "stderr",
     "output_type": "stream",
     "text": [
      " 65%|██████▍   | 20/31 [01:14<00:48,  4.37s/it]"
     ]
    },
    {
     "name": "stdout",
     "output_type": "stream",
     "text": [
      "WARNING *** file size (13940733) not 512 + multiple of sector size (512)\n",
      "WARNING *** file size (13940733) not 512 + multiple of sector size (512)\n"
     ]
    },
    {
     "name": "stderr",
     "output_type": "stream",
     "text": [
      " 68%|██████▊   | 21/31 [01:18<00:41,  4.14s/it]"
     ]
    },
    {
     "name": "stdout",
     "output_type": "stream",
     "text": [
      "WARNING *** file size (13929556) not 512 + multiple of sector size (512)\n",
      "WARNING *** file size (13929556) not 512 + multiple of sector size (512)\n"
     ]
    },
    {
     "name": "stderr",
     "output_type": "stream",
     "text": [
      " 71%|███████   | 22/31 [01:22<00:36,  4.03s/it]"
     ]
    },
    {
     "name": "stdout",
     "output_type": "stream",
     "text": [
      "WARNING *** file size (13929663) not 512 + multiple of sector size (512)\n",
      "WARNING *** file size (13929663) not 512 + multiple of sector size (512)\n"
     ]
    },
    {
     "name": "stderr",
     "output_type": "stream",
     "text": [
      " 74%|███████▍  | 23/31 [01:26<00:32,  4.01s/it]"
     ]
    },
    {
     "name": "stdout",
     "output_type": "stream",
     "text": [
      "WARNING *** file size (13936272) not 512 + multiple of sector size (512)\n",
      "WARNING *** file size (13936272) not 512 + multiple of sector size (512)\n"
     ]
    },
    {
     "name": "stderr",
     "output_type": "stream",
     "text": [
      " 77%|███████▋  | 24/31 [01:29<00:26,  3.82s/it]"
     ]
    },
    {
     "name": "stdout",
     "output_type": "stream",
     "text": [
      "WARNING *** file size (13949602) not 512 + multiple of sector size (512)\n",
      "WARNING *** file size (13949602) not 512 + multiple of sector size (512)\n"
     ]
    },
    {
     "name": "stderr",
     "output_type": "stream",
     "text": [
      " 81%|████████  | 25/31 [01:33<00:22,  3.69s/it]"
     ]
    },
    {
     "name": "stdout",
     "output_type": "stream",
     "text": [
      "WARNING *** file size (13909433) not 512 + multiple of sector size (512)\n",
      "WARNING *** file size (13909433) not 512 + multiple of sector size (512)\n"
     ]
    },
    {
     "name": "stderr",
     "output_type": "stream",
     "text": [
      " 84%|████████▍ | 26/31 [01:37<00:19,  3.80s/it]"
     ]
    },
    {
     "name": "stdout",
     "output_type": "stream",
     "text": [
      "WARNING *** file size (13901852) not 512 + multiple of sector size (512)\n",
      "WARNING *** file size (13901852) not 512 + multiple of sector size (512)\n"
     ]
    },
    {
     "name": "stderr",
     "output_type": "stream",
     "text": [
      " 87%|████████▋ | 27/31 [01:41<00:15,  3.82s/it]"
     ]
    },
    {
     "name": "stdout",
     "output_type": "stream",
     "text": [
      "WARNING *** file size (13887089) not 512 + multiple of sector size (512)\n",
      "WARNING *** file size (13887089) not 512 + multiple of sector size (512)\n"
     ]
    },
    {
     "name": "stderr",
     "output_type": "stream",
     "text": [
      " 90%|█████████ | 28/31 [01:44<00:11,  3.76s/it]"
     ]
    },
    {
     "name": "stdout",
     "output_type": "stream",
     "text": [
      "WARNING *** file size (13915263) not 512 + multiple of sector size (512)\n",
      "WARNING *** file size (13915263) not 512 + multiple of sector size (512)\n"
     ]
    },
    {
     "name": "stderr",
     "output_type": "stream",
     "text": [
      " 94%|█████████▎| 29/31 [01:48<00:07,  3.69s/it]"
     ]
    },
    {
     "name": "stdout",
     "output_type": "stream",
     "text": [
      "WARNING *** file size (13900185) not 512 + multiple of sector size (512)\n",
      "WARNING *** file size (13900185) not 512 + multiple of sector size (512)\n"
     ]
    },
    {
     "name": "stderr",
     "output_type": "stream",
     "text": [
      " 97%|█████████▋| 30/31 [01:51<00:03,  3.64s/it]"
     ]
    },
    {
     "name": "stdout",
     "output_type": "stream",
     "text": [
      "WARNING *** file size (13877839) not 512 + multiple of sector size (512)\n",
      "WARNING *** file size (13877839) not 512 + multiple of sector size (512)\n"
     ]
    },
    {
     "name": "stderr",
     "output_type": "stream",
     "text": [
      "100%|██████████| 31/31 [01:55<00:00,  3.72s/it]\n"
     ]
    }
   ],
   "source": [
    "es = EsafeDatasetScanner()"
   ]
  },
  {
   "cell_type": "code",
   "execution_count": 36,
   "metadata": {},
   "outputs": [
    {
     "data": {
      "text/plain": [
       "32"
      ]
     },
     "execution_count": 36,
     "metadata": {},
     "output_type": "execute_result"
    }
   ],
   "source": [
    "len(es.file_names_raw)"
   ]
  },
  {
   "cell_type": "code",
   "execution_count": 35,
   "metadata": {},
   "outputs": [
    {
     "data": {
      "text/plain": [
       "32"
      ]
     },
     "execution_count": 35,
     "metadata": {},
     "output_type": "execute_result"
    }
   ],
   "source": [
    "len(es.file_names_canonical)"
   ]
  },
  {
   "cell_type": "code",
   "execution_count": 39,
   "metadata": {},
   "outputs": [
    {
     "data": {
      "text/plain": [
       "('BCI_REDM08003V_20250124190529.xls',\n",
       " 'menuESAFE500068-account000000000-at20250117-save2025012419.xls')"
      ]
     },
     "execution_count": 39,
     "metadata": {},
     "output_type": "execute_result"
    }
   ],
   "source": [
    "es.file_names_raw[0],es.file_names_canonical[0]"
   ]
  },
  {
   "cell_type": "code",
   "execution_count": 44,
   "metadata": {},
   "outputs": [
    {
     "name": "stdout",
     "output_type": "stream",
     "text": [
      "..\\data\\dataset-menuESAFE500068\\BCI_REDM08003V_20250124190529.xls ..\\data\\dataset-menuESAFE500068\\menuESAFE500068-account000000000-at20250117-save2025012419.xls\n",
      "Renamed: ..\\data\\dataset-menuESAFE500068\\BCI_REDM08003V_20250124190529.xls -> ..\\data\\dataset-menuESAFE500068\\menuESAFE500068-account000000000-at20250117-save2025012419.xls\n"
     ]
    }
   ],
   "source": [
    "rename_file(es.file_names_raw[0], es.file_names_canonical[0])"
   ]
  },
  {
   "cell_type": "code",
   "execution_count": 19,
   "metadata": {},
   "outputs": [
    {
     "data": {
      "text/plain": [
       "'BCI_REDM08003V_20250124190413.xls'"
      ]
     },
     "execution_count": 19,
     "metadata": {},
     "output_type": "execute_result"
    }
   ],
   "source": [
    "old = es.file_names_raw[0]\n",
    "old"
   ]
  },
  {
   "cell_type": "code",
   "execution_count": 20,
   "metadata": {},
   "outputs": [
    {
     "data": {
      "text/plain": [
       "'menuESAFE500068-account000000000-at20250124-save2025012419.xls'"
      ]
     },
     "execution_count": 20,
     "metadata": {},
     "output_type": "execute_result"
    }
   ],
   "source": [
    "new = es.file_names_canonical[0].file_name\n",
    "new"
   ]
  },
  {
   "cell_type": "code",
   "execution_count": 22,
   "metadata": {},
   "outputs": [
    {
     "data": {
      "text/plain": [
       "('../data/dataset-menuESAFE500068\\\\BCI_REDM08003V_20250124190413.xls',\n",
       " '../data/dataset-menuESAFE500068\\\\menuESAFE500068-account000000000-at20250124-save2025012419.xls')"
      ]
     },
     "execution_count": 22,
     "metadata": {},
     "output_type": "execute_result"
    }
   ],
   "source": [
    "old_path = os.path.join(BASE_PATH, old)\n",
    "new_path = os.path.join(BASE_PATH, new)\n",
    "old_path, new_path"
   ]
  },
  {
   "cell_type": "code",
   "execution_count": 24,
   "metadata": {},
   "outputs": [],
   "source": [
    "def rename_file(old_name, new_name, folder_path=BASE_PATH):\n",
    "    old_path = os.path.join(folder_path, old_name)\n",
    "    new_path = os.path.join(folder_path, new_name)\n",
    "    \n",
    "    if not old_path.exists():\n",
    "        raise FileNotFoundError(f\"File not found: {old_path}\")\n",
    "\n",
    "    old_path.rename(new_path)\n",
    "    print(f\"Renamed: {old_path} -> {new_path}\")\n",
    "    return None"
   ]
  },
  {
   "cell_type": "code",
   "execution_count": 23,
   "metadata": {},
   "outputs": [
    {
     "data": {
      "text/plain": [
       "WindowsPath('../data/dataset-menuESAFE500068/menuESAFE500068-account000000000-at20250124-save2025012419.xls')"
      ]
     },
     "execution_count": 23,
     "metadata": {},
     "output_type": "execute_result"
    }
   ],
   "source": [
    "from pathlib import Path\n",
    "\n",
    "old_path = Path(old_path)\n",
    "new_path = Path(new_path)\n",
    "\n",
    "if not old_path.exists():\n",
    "    raise FileNotFoundError(f\"File not found: {old_path}\")\n",
    "\n",
    "old_path.rename(new_path)"
   ]
  },
  {
   "cell_type": "code",
   "execution_count": null,
   "metadata": {},
   "outputs": [],
   "source": [
    "filenames = scan_files_including_regex(BASE_PATH, 'BCI_REDM')\n",
    "filenames\n"
   ]
  },
  {
   "cell_type": "markdown",
   "metadata": {},
   "source": [
    "## Test open_excel_as_df function\n",
    "\n",
    "Excel 파일을 DataFrame으로 읽는 함수를 테스트합니다."
   ]
  },
  {
   "cell_type": "code",
   "execution_count": 37,
   "metadata": {},
   "outputs": [
    {
     "name": "stdout",
     "output_type": "stream",
     "text": [
      "WARNING *** file size (13877839) not 512 + multiple of sector size (512)\n"
     ]
    },
    {
     "data": {
      "text/html": [
       "<div>\n",
       "<style scoped>\n",
       "    .dataframe tbody tr th:only-of-type {\n",
       "        vertical-align: middle;\n",
       "    }\n",
       "\n",
       "    .dataframe tbody tr th {\n",
       "        vertical-align: top;\n",
       "    }\n",
       "\n",
       "    .dataframe thead th {\n",
       "        text-align: right;\n",
       "    }\n",
       "</style>\n",
       "<table border=\"1\" class=\"dataframe\">\n",
       "  <thead>\n",
       "    <tr style=\"text-align: right;\">\n",
       "      <th></th>\n",
       "      <th>순번</th>\n",
       "      <th>영업일</th>\n",
       "      <th>종목코드</th>\n",
       "      <th>종목명</th>\n",
       "      <th>통화단위</th>\n",
       "      <th>FULL기준가</th>\n",
       "      <th>기준가</th>\n",
       "      <th>증감</th>\n",
       "      <th>과표기준가</th>\n",
       "      <th>증감.1</th>\n",
       "      <th>비거주자과표기준가</th>\n",
       "      <th>증감.2</th>\n",
       "      <th>해외비과세과표기준가</th>\n",
       "      <th>증감.3</th>\n",
       "      <th>주식편입비율(%)</th>\n",
       "      <th>세금구분</th>\n",
       "      <th>세금우대과표기준가</th>\n",
       "      <th>펀드설정원본액</th>\n",
       "      <th>펀드순자산총액</th>\n",
       "      <th>적용법률</th>\n",
       "    </tr>\n",
       "  </thead>\n",
       "  <tbody>\n",
       "    <tr>\n",
       "      <th>0</th>\n",
       "      <td>1.0</td>\n",
       "      <td>20240510</td>\n",
       "      <td>KR5701000014</td>\n",
       "      <td>한국투자글로벌신성장증권투자신탁2호(사모투자재간접형)(A)</td>\n",
       "      <td>KRW</td>\n",
       "      <td>1130.45</td>\n",
       "      <td>1130.45</td>\n",
       "      <td>0.95</td>\n",
       "      <td>1131.73</td>\n",
       "      <td>5.90</td>\n",
       "      <td>1131.73</td>\n",
       "      <td>5.90</td>\n",
       "      <td>0.0</td>\n",
       "      <td>0.0</td>\n",
       "      <td>0.0</td>\n",
       "      <td>배당</td>\n",
       "      <td>0.0</td>\n",
       "      <td>45447885000</td>\n",
       "      <td>5.143104e+10</td>\n",
       "      <td>자본시장법</td>\n",
       "    </tr>\n",
       "    <tr>\n",
       "      <th>1</th>\n",
       "      <td>2.0</td>\n",
       "      <td>20240510</td>\n",
       "      <td>KR5701000022</td>\n",
       "      <td>한국투자글로벌신성장증권투자신탁1호(사모투자재간접형)(A)</td>\n",
       "      <td>KRW</td>\n",
       "      <td>1130.51</td>\n",
       "      <td>1130.51</td>\n",
       "      <td>0.95</td>\n",
       "      <td>1131.79</td>\n",
       "      <td>5.91</td>\n",
       "      <td>1131.79</td>\n",
       "      <td>5.91</td>\n",
       "      <td>0.0</td>\n",
       "      <td>0.0</td>\n",
       "      <td>0.0</td>\n",
       "      <td>배당</td>\n",
       "      <td>0.0</td>\n",
       "      <td>45711412000</td>\n",
       "      <td>5.168648e+10</td>\n",
       "      <td>자본시장법</td>\n",
       "    </tr>\n",
       "    <tr>\n",
       "      <th>2</th>\n",
       "      <td>3.0</td>\n",
       "      <td>20240510</td>\n",
       "      <td>KR5701000030</td>\n",
       "      <td>한국투자글로벌신성장증권투자신탁1호(사모투자재간접형)(A-e)</td>\n",
       "      <td>KRW</td>\n",
       "      <td>1132.61</td>\n",
       "      <td>1132.61</td>\n",
       "      <td>0.96</td>\n",
       "      <td>1133.89</td>\n",
       "      <td>5.93</td>\n",
       "      <td>1133.89</td>\n",
       "      <td>5.93</td>\n",
       "      <td>0.0</td>\n",
       "      <td>0.0</td>\n",
       "      <td>0.0</td>\n",
       "      <td>배당</td>\n",
       "      <td>0.0</td>\n",
       "      <td>45711412000</td>\n",
       "      <td>5.168648e+10</td>\n",
       "      <td>자본시장법</td>\n",
       "    </tr>\n",
       "    <tr>\n",
       "      <th>3</th>\n",
       "      <td>4.0</td>\n",
       "      <td>20240510</td>\n",
       "      <td>KR5701000048</td>\n",
       "      <td>한국투자글로벌신성장증권투자신탁2호(사모투자재간접형)(A-e)</td>\n",
       "      <td>KRW</td>\n",
       "      <td>1132.57</td>\n",
       "      <td>1132.57</td>\n",
       "      <td>0.96</td>\n",
       "      <td>1133.85</td>\n",
       "      <td>5.92</td>\n",
       "      <td>1133.85</td>\n",
       "      <td>5.92</td>\n",
       "      <td>0.0</td>\n",
       "      <td>0.0</td>\n",
       "      <td>0.0</td>\n",
       "      <td>배당</td>\n",
       "      <td>0.0</td>\n",
       "      <td>45447885000</td>\n",
       "      <td>5.143104e+10</td>\n",
       "      <td>자본시장법</td>\n",
       "    </tr>\n",
       "    <tr>\n",
       "      <th>4</th>\n",
       "      <td>5.0</td>\n",
       "      <td>20240510</td>\n",
       "      <td>KR5701000055</td>\n",
       "      <td>한국투자글로벌AI빅테크증권투자신탁1호(사모투자재간접형)(A)</td>\n",
       "      <td>KRW</td>\n",
       "      <td>1056.45</td>\n",
       "      <td>1056.45</td>\n",
       "      <td>2.49</td>\n",
       "      <td>1057.68</td>\n",
       "      <td>5.16</td>\n",
       "      <td>1057.68</td>\n",
       "      <td>5.16</td>\n",
       "      <td>0.0</td>\n",
       "      <td>0.0</td>\n",
       "      <td>0.0</td>\n",
       "      <td>배당</td>\n",
       "      <td>0.0</td>\n",
       "      <td>39598419000</td>\n",
       "      <td>4.184175e+10</td>\n",
       "      <td>자본시장법</td>\n",
       "    </tr>\n",
       "  </tbody>\n",
       "</table>\n",
       "</div>"
      ],
      "text/plain": [
       "    순번       영업일          종목코드                                종목명 통화단위  \\\n",
       "0  1.0  20240510  KR5701000014    한국투자글로벌신성장증권투자신탁2호(사모투자재간접형)(A)  KRW   \n",
       "1  2.0  20240510  KR5701000022    한국투자글로벌신성장증권투자신탁1호(사모투자재간접형)(A)  KRW   \n",
       "2  3.0  20240510  KR5701000030  한국투자글로벌신성장증권투자신탁1호(사모투자재간접형)(A-e)  KRW   \n",
       "3  4.0  20240510  KR5701000048  한국투자글로벌신성장증권투자신탁2호(사모투자재간접형)(A-e)  KRW   \n",
       "4  5.0  20240510  KR5701000055  한국투자글로벌AI빅테크증권투자신탁1호(사모투자재간접형)(A)  KRW   \n",
       "\n",
       "   FULL기준가      기준가    증감    과표기준가  증감.1  비거주자과표기준가  증감.2  해외비과세과표기준가  증감.3  \\\n",
       "0  1130.45  1130.45  0.95  1131.73  5.90    1131.73  5.90         0.0   0.0   \n",
       "1  1130.51  1130.51  0.95  1131.79  5.91    1131.79  5.91         0.0   0.0   \n",
       "2  1132.61  1132.61  0.96  1133.89  5.93    1133.89  5.93         0.0   0.0   \n",
       "3  1132.57  1132.57  0.96  1133.85  5.92    1133.85  5.92         0.0   0.0   \n",
       "4  1056.45  1056.45  2.49  1057.68  5.16    1057.68  5.16         0.0   0.0   \n",
       "\n",
       "   주식편입비율(%) 세금구분  세금우대과표기준가      펀드설정원본액       펀드순자산총액   적용법률  \n",
       "0        0.0   배당        0.0  45447885000  5.143104e+10  자본시장법  \n",
       "1        0.0   배당        0.0  45711412000  5.168648e+10  자본시장법  \n",
       "2        0.0   배당        0.0  45711412000  5.168648e+10  자본시장법  \n",
       "3        0.0   배당        0.0  45447885000  5.143104e+10  자본시장법  \n",
       "4        0.0   배당        0.0  39598419000  4.184175e+10  자본시장법  "
      ]
     },
     "execution_count": 37,
     "metadata": {},
     "output_type": "execute_result"
    }
   ],
   "source": [
    "# 테스트할 Excel 파일 경로\n",
    "excel_path = '../data/dataset-menuESAFE500068/BCI_REDM08003V_20250125101745.xls'\n",
    "\n",
    "# DataFrame으로 읽기\n",
    "df = open_excel_as_df(excel_path)\n",
    "df.head()"
   ]
  },
  {
   "cell_type": "code",
   "execution_count": 38,
   "metadata": {},
   "outputs": [
    {
     "data": {
      "text/html": [
       "<div>\n",
       "<style scoped>\n",
       "    .dataframe tbody tr th:only-of-type {\n",
       "        vertical-align: middle;\n",
       "    }\n",
       "\n",
       "    .dataframe tbody tr th {\n",
       "        vertical-align: top;\n",
       "    }\n",
       "\n",
       "    .dataframe thead th {\n",
       "        text-align: right;\n",
       "    }\n",
       "</style>\n",
       "<table border=\"1\" class=\"dataframe\">\n",
       "  <thead>\n",
       "    <tr style=\"text-align: right;\">\n",
       "      <th></th>\n",
       "      <th>순번</th>\n",
       "      <th>영업일</th>\n",
       "      <th>종목코드</th>\n",
       "      <th>종목명</th>\n",
       "      <th>통화단위</th>\n",
       "      <th>FULL기준가</th>\n",
       "      <th>기준가</th>\n",
       "      <th>증감</th>\n",
       "      <th>과표기준가</th>\n",
       "      <th>증감.1</th>\n",
       "      <th>비거주자과표기준가</th>\n",
       "      <th>증감.2</th>\n",
       "      <th>해외비과세과표기준가</th>\n",
       "      <th>증감.3</th>\n",
       "      <th>주식편입비율(%)</th>\n",
       "      <th>세금구분</th>\n",
       "      <th>세금우대과표기준가</th>\n",
       "      <th>펀드설정원본액</th>\n",
       "      <th>펀드순자산총액</th>\n",
       "      <th>적용법률</th>\n",
       "    </tr>\n",
       "  </thead>\n",
       "  <tbody>\n",
       "    <tr>\n",
       "      <th>0</th>\n",
       "      <td>1.0</td>\n",
       "      <td>20240510</td>\n",
       "      <td>KR5701000014</td>\n",
       "      <td>한국투자글로벌신성장증권투자신탁2호(사모투자재간접형)(A)</td>\n",
       "      <td>KRW</td>\n",
       "      <td>1130.45000</td>\n",
       "      <td>1130.45</td>\n",
       "      <td>0.95</td>\n",
       "      <td>1131.73</td>\n",
       "      <td>5.90</td>\n",
       "      <td>1131.73</td>\n",
       "      <td>5.90</td>\n",
       "      <td>0.0</td>\n",
       "      <td>0.0</td>\n",
       "      <td>0.00</td>\n",
       "      <td>배당</td>\n",
       "      <td>0.0</td>\n",
       "      <td>45447885000</td>\n",
       "      <td>5.143104e+10</td>\n",
       "      <td>자본시장법</td>\n",
       "    </tr>\n",
       "    <tr>\n",
       "      <th>1</th>\n",
       "      <td>2.0</td>\n",
       "      <td>20240510</td>\n",
       "      <td>KR5701000022</td>\n",
       "      <td>한국투자글로벌신성장증권투자신탁1호(사모투자재간접형)(A)</td>\n",
       "      <td>KRW</td>\n",
       "      <td>1130.51000</td>\n",
       "      <td>1130.51</td>\n",
       "      <td>0.95</td>\n",
       "      <td>1131.79</td>\n",
       "      <td>5.91</td>\n",
       "      <td>1131.79</td>\n",
       "      <td>5.91</td>\n",
       "      <td>0.0</td>\n",
       "      <td>0.0</td>\n",
       "      <td>0.00</td>\n",
       "      <td>배당</td>\n",
       "      <td>0.0</td>\n",
       "      <td>45711412000</td>\n",
       "      <td>5.168648e+10</td>\n",
       "      <td>자본시장법</td>\n",
       "    </tr>\n",
       "    <tr>\n",
       "      <th>2</th>\n",
       "      <td>3.0</td>\n",
       "      <td>20240510</td>\n",
       "      <td>KR5701000030</td>\n",
       "      <td>한국투자글로벌신성장증권투자신탁1호(사모투자재간접형)(A-e)</td>\n",
       "      <td>KRW</td>\n",
       "      <td>1132.61000</td>\n",
       "      <td>1132.61</td>\n",
       "      <td>0.96</td>\n",
       "      <td>1133.89</td>\n",
       "      <td>5.93</td>\n",
       "      <td>1133.89</td>\n",
       "      <td>5.93</td>\n",
       "      <td>0.0</td>\n",
       "      <td>0.0</td>\n",
       "      <td>0.00</td>\n",
       "      <td>배당</td>\n",
       "      <td>0.0</td>\n",
       "      <td>45711412000</td>\n",
       "      <td>5.168648e+10</td>\n",
       "      <td>자본시장법</td>\n",
       "    </tr>\n",
       "    <tr>\n",
       "      <th>3</th>\n",
       "      <td>4.0</td>\n",
       "      <td>20240510</td>\n",
       "      <td>KR5701000048</td>\n",
       "      <td>한국투자글로벌신성장증권투자신탁2호(사모투자재간접형)(A-e)</td>\n",
       "      <td>KRW</td>\n",
       "      <td>1132.57000</td>\n",
       "      <td>1132.57</td>\n",
       "      <td>0.96</td>\n",
       "      <td>1133.85</td>\n",
       "      <td>5.92</td>\n",
       "      <td>1133.85</td>\n",
       "      <td>5.92</td>\n",
       "      <td>0.0</td>\n",
       "      <td>0.0</td>\n",
       "      <td>0.00</td>\n",
       "      <td>배당</td>\n",
       "      <td>0.0</td>\n",
       "      <td>45447885000</td>\n",
       "      <td>5.143104e+10</td>\n",
       "      <td>자본시장법</td>\n",
       "    </tr>\n",
       "    <tr>\n",
       "      <th>4</th>\n",
       "      <td>5.0</td>\n",
       "      <td>20240510</td>\n",
       "      <td>KR5701000055</td>\n",
       "      <td>한국투자글로벌AI빅테크증권투자신탁1호(사모투자재간접형)(A)</td>\n",
       "      <td>KRW</td>\n",
       "      <td>1056.45000</td>\n",
       "      <td>1056.45</td>\n",
       "      <td>2.49</td>\n",
       "      <td>1057.68</td>\n",
       "      <td>5.16</td>\n",
       "      <td>1057.68</td>\n",
       "      <td>5.16</td>\n",
       "      <td>0.0</td>\n",
       "      <td>0.0</td>\n",
       "      <td>0.00</td>\n",
       "      <td>배당</td>\n",
       "      <td>0.0</td>\n",
       "      <td>39598419000</td>\n",
       "      <td>4.184175e+10</td>\n",
       "      <td>자본시장법</td>\n",
       "    </tr>\n",
       "    <tr>\n",
       "      <th>...</th>\n",
       "      <td>...</td>\n",
       "      <td>...</td>\n",
       "      <td>...</td>\n",
       "      <td>...</td>\n",
       "      <td>...</td>\n",
       "      <td>...</td>\n",
       "      <td>...</td>\n",
       "      <td>...</td>\n",
       "      <td>...</td>\n",
       "      <td>...</td>\n",
       "      <td>...</td>\n",
       "      <td>...</td>\n",
       "      <td>...</td>\n",
       "      <td>...</td>\n",
       "      <td>...</td>\n",
       "      <td>...</td>\n",
       "      <td>...</td>\n",
       "      <td>...</td>\n",
       "      <td>...</td>\n",
       "      <td>...</td>\n",
       "    </tr>\n",
       "    <tr>\n",
       "      <th>39269</th>\n",
       "      <td>39270.0</td>\n",
       "      <td>20240510</td>\n",
       "      <td>KRZ702589390</td>\n",
       "      <td>수협NH-Amundi5호(공)</td>\n",
       "      <td>KRW</td>\n",
       "      <td>1009.95000</td>\n",
       "      <td>1009.95</td>\n",
       "      <td>-10.94</td>\n",
       "      <td>1000.29</td>\n",
       "      <td>0.00</td>\n",
       "      <td>0.00</td>\n",
       "      <td>0.00</td>\n",
       "      <td>0.0</td>\n",
       "      <td>0.0</td>\n",
       "      <td>90.45</td>\n",
       "      <td>배당</td>\n",
       "      <td>0.0</td>\n",
       "      <td>3000000000</td>\n",
       "      <td>3.029841e+09</td>\n",
       "      <td>자본시장법</td>\n",
       "    </tr>\n",
       "    <tr>\n",
       "      <th>39270</th>\n",
       "      <td>39271.0</td>\n",
       "      <td>20240510</td>\n",
       "      <td>KRZ702590510</td>\n",
       "      <td>제1호티더블유에이아이피오사모투자합자회사</td>\n",
       "      <td>KRW</td>\n",
       "      <td>999.69000</td>\n",
       "      <td>999.69</td>\n",
       "      <td>0.01</td>\n",
       "      <td>999.69</td>\n",
       "      <td>0.01</td>\n",
       "      <td>0.00</td>\n",
       "      <td>0.00</td>\n",
       "      <td>0.0</td>\n",
       "      <td>0.0</td>\n",
       "      <td>0.00</td>\n",
       "      <td>배당</td>\n",
       "      <td>0.0</td>\n",
       "      <td>1120000000</td>\n",
       "      <td>1.119650e+09</td>\n",
       "      <td>자본시장법</td>\n",
       "    </tr>\n",
       "    <tr>\n",
       "      <th>39271</th>\n",
       "      <td>39272.0</td>\n",
       "      <td>20240510</td>\n",
       "      <td>KRZ702590620</td>\n",
       "      <td>하나커머셜단기채권형1호</td>\n",
       "      <td>KRW</td>\n",
       "      <td>1000.33000</td>\n",
       "      <td>1000.33</td>\n",
       "      <td>0.10</td>\n",
       "      <td>1000.33</td>\n",
       "      <td>0.10</td>\n",
       "      <td>0.00</td>\n",
       "      <td>0.00</td>\n",
       "      <td>0.0</td>\n",
       "      <td>0.0</td>\n",
       "      <td>0.00</td>\n",
       "      <td>배당</td>\n",
       "      <td>0.0</td>\n",
       "      <td>50000000000</td>\n",
       "      <td>5.001643e+10</td>\n",
       "      <td>자본시장법</td>\n",
       "    </tr>\n",
       "    <tr>\n",
       "      <th>39272</th>\n",
       "      <td>39273.0</td>\n",
       "      <td>20240510</td>\n",
       "      <td>KRZ7A2277871</td>\n",
       "      <td>케이씨지아이더우먼증권투자회사[주식]종류A</td>\n",
       "      <td>KRW</td>\n",
       "      <td>887.32341</td>\n",
       "      <td>887.32</td>\n",
       "      <td>12.77</td>\n",
       "      <td>1007.47</td>\n",
       "      <td>-0.03</td>\n",
       "      <td>1007.47</td>\n",
       "      <td>-0.03</td>\n",
       "      <td>0.0</td>\n",
       "      <td>0.0</td>\n",
       "      <td>97.99</td>\n",
       "      <td>배당</td>\n",
       "      <td>0.0</td>\n",
       "      <td>24852346683</td>\n",
       "      <td>2.218705e+10</td>\n",
       "      <td>자본시장법</td>\n",
       "    </tr>\n",
       "    <tr>\n",
       "      <th>39273</th>\n",
       "      <td>NaN</td>\n",
       "      <td>합계</td>\n",
       "      <td>NaN</td>\n",
       "      <td>NaN</td>\n",
       "      <td>NaN</td>\n",
       "      <td>NaN</td>\n",
       "      <td>NaN</td>\n",
       "      <td>NaN</td>\n",
       "      <td>NaN</td>\n",
       "      <td>NaN</td>\n",
       "      <td>NaN</td>\n",
       "      <td>NaN</td>\n",
       "      <td>NaN</td>\n",
       "      <td>NaN</td>\n",
       "      <td>NaN</td>\n",
       "      <td>NaN</td>\n",
       "      <td>NaN</td>\n",
       "      <td>2461518779967744</td>\n",
       "      <td>2.851280e+15</td>\n",
       "      <td>NaN</td>\n",
       "    </tr>\n",
       "  </tbody>\n",
       "</table>\n",
       "<p>39274 rows × 20 columns</p>\n",
       "</div>"
      ],
      "text/plain": [
       "            순번       영업일          종목코드                                종목명  \\\n",
       "0          1.0  20240510  KR5701000014    한국투자글로벌신성장증권투자신탁2호(사모투자재간접형)(A)   \n",
       "1          2.0  20240510  KR5701000022    한국투자글로벌신성장증권투자신탁1호(사모투자재간접형)(A)   \n",
       "2          3.0  20240510  KR5701000030  한국투자글로벌신성장증권투자신탁1호(사모투자재간접형)(A-e)   \n",
       "3          4.0  20240510  KR5701000048  한국투자글로벌신성장증권투자신탁2호(사모투자재간접형)(A-e)   \n",
       "4          5.0  20240510  KR5701000055  한국투자글로벌AI빅테크증권투자신탁1호(사모투자재간접형)(A)   \n",
       "...        ...       ...           ...                                ...   \n",
       "39269  39270.0  20240510  KRZ702589390                   수협NH-Amundi5호(공)   \n",
       "39270  39271.0  20240510  KRZ702590510              제1호티더블유에이아이피오사모투자합자회사   \n",
       "39271  39272.0  20240510  KRZ702590620                       하나커머셜단기채권형1호   \n",
       "39272  39273.0  20240510  KRZ7A2277871             케이씨지아이더우먼증권투자회사[주식]종류A   \n",
       "39273      NaN        합계           NaN                                NaN   \n",
       "\n",
       "      통화단위     FULL기준가      기준가     증감    과표기준가  증감.1  비거주자과표기준가  증감.2  \\\n",
       "0      KRW  1130.45000  1130.45   0.95  1131.73  5.90    1131.73  5.90   \n",
       "1      KRW  1130.51000  1130.51   0.95  1131.79  5.91    1131.79  5.91   \n",
       "2      KRW  1132.61000  1132.61   0.96  1133.89  5.93    1133.89  5.93   \n",
       "3      KRW  1132.57000  1132.57   0.96  1133.85  5.92    1133.85  5.92   \n",
       "4      KRW  1056.45000  1056.45   2.49  1057.68  5.16    1057.68  5.16   \n",
       "...    ...         ...      ...    ...      ...   ...        ...   ...   \n",
       "39269  KRW  1009.95000  1009.95 -10.94  1000.29  0.00       0.00  0.00   \n",
       "39270  KRW   999.69000   999.69   0.01   999.69  0.01       0.00  0.00   \n",
       "39271  KRW  1000.33000  1000.33   0.10  1000.33  0.10       0.00  0.00   \n",
       "39272  KRW   887.32341   887.32  12.77  1007.47 -0.03    1007.47 -0.03   \n",
       "39273  NaN         NaN      NaN    NaN      NaN   NaN        NaN   NaN   \n",
       "\n",
       "       해외비과세과표기준가  증감.3  주식편입비율(%) 세금구분  세금우대과표기준가           펀드설정원본액  \\\n",
       "0             0.0   0.0       0.00   배당        0.0       45447885000   \n",
       "1             0.0   0.0       0.00   배당        0.0       45711412000   \n",
       "2             0.0   0.0       0.00   배당        0.0       45711412000   \n",
       "3             0.0   0.0       0.00   배당        0.0       45447885000   \n",
       "4             0.0   0.0       0.00   배당        0.0       39598419000   \n",
       "...           ...   ...        ...  ...        ...               ...   \n",
       "39269         0.0   0.0      90.45   배당        0.0        3000000000   \n",
       "39270         0.0   0.0       0.00   배당        0.0        1120000000   \n",
       "39271         0.0   0.0       0.00   배당        0.0       50000000000   \n",
       "39272         0.0   0.0      97.99   배당        0.0       24852346683   \n",
       "39273         NaN   NaN        NaN  NaN        NaN  2461518779967744   \n",
       "\n",
       "            펀드순자산총액   적용법률  \n",
       "0      5.143104e+10  자본시장법  \n",
       "1      5.168648e+10  자본시장법  \n",
       "2      5.168648e+10  자본시장법  \n",
       "3      5.143104e+10  자본시장법  \n",
       "4      4.184175e+10  자본시장법  \n",
       "...             ...    ...  \n",
       "39269  3.029841e+09  자본시장법  \n",
       "39270  1.119650e+09  자본시장법  \n",
       "39271  5.001643e+10  자본시장법  \n",
       "39272  2.218705e+10  자본시장법  \n",
       "39273  2.851280e+15    NaN  \n",
       "\n",
       "[39274 rows x 20 columns]"
      ]
     },
     "execution_count": 38,
     "metadata": {},
     "output_type": "execute_result"
    }
   ],
   "source": [
    "df"
   ]
  },
  {
   "cell_type": "code",
   "execution_count": 8,
   "metadata": {},
   "outputs": [],
   "source": []
  },
  {
   "cell_type": "code",
   "execution_count": 18,
   "metadata": {},
   "outputs": [
    {
     "data": {
      "text/plain": [
       "['BCI_REDM08003V_20250124190413.xls',\n",
       " 'BCI_REDM08003V_20250124190529.xls',\n",
       " 'BCI_REDM08003V_20250124190645.xls',\n",
       " 'BCI_REDM08003V_20250124190801.xls',\n",
       " 'BCI_REDM08003V_20250124191427.xls',\n",
       " 'BCI_REDM08003V_20250124191543.xls',\n",
       " 'BCI_REDM08003V_20250124191659.xls',\n",
       " 'BCI_REDM08003V_20250124191815.xls',\n",
       " 'BCI_REDM08003V_20250124191931.xls',\n",
       " 'BCI_REDM08003V_20250124192203.xls',\n",
       " 'BCI_REDM08003V_20250124192551.xls',\n",
       " 'BCI_REDM08003V_20250125061423.xls',\n",
       " 'BCI_REDM08003V_20250125095111.xls',\n",
       " 'BCI_REDM08003V_20250125095227.xls',\n",
       " 'BCI_REDM08003V_20250125095341.xls',\n",
       " 'BCI_REDM08003V_20250125095457.xls',\n",
       " 'BCI_REDM08003V_20250125095612.xls',\n",
       " 'BCI_REDM08003V_20250125095728.xls',\n",
       " 'BCI_REDM08003V_20250125095844.xls',\n",
       " 'BCI_REDM08003V_20250125100000.xls',\n",
       " 'BCI_REDM08003V_20250125100116.xls',\n",
       " 'BCI_REDM08003V_20250125100232.xls',\n",
       " 'BCI_REDM08003V_20250125100348.xls',\n",
       " 'BCI_REDM08003V_20250125100504.xls',\n",
       " 'BCI_REDM08003V_20250125100620.xls',\n",
       " 'BCI_REDM08003V_20250125100736.xls',\n",
       " 'BCI_REDM08003V_20250125100853.xls',\n",
       " 'BCI_REDM08003V_20250125101009.xls',\n",
       " 'BCI_REDM08003V_20250125101124.xls',\n",
       " 'BCI_REDM08003V_20250125101241.xls',\n",
       " 'BCI_REDM08003V_20250125101357.xls',\n",
       " 'BCI_REDM08003V_20250125101513.xls',\n",
       " 'BCI_REDM08003V_20250125101745.xls']"
      ]
     },
     "execution_count": 18,
     "metadata": {},
     "output_type": "execute_result"
    }
   ],
   "source": [
    "BASE_PATH = '../data/dataset-menuESAFE500068'\n",
    "filenames = scan_files_including_regex(BASE_PATH, 'BCI_REDM')\n",
    "filenames"
   ]
  },
  {
   "cell_type": "code",
   "execution_count": 20,
   "metadata": {},
   "outputs": [
    {
     "data": {
      "text/plain": [
       "'../data/dataset-menuESAFE500068\\\\BCI_REDM08003V_20250124190413.xls'"
      ]
     },
     "execution_count": 20,
     "metadata": {},
     "output_type": "execute_result"
    }
   ],
   "source": [
    "filepath = os.path.join(BASE_PATH, filenames[0])\n",
    "filepath"
   ]
  },
  {
   "cell_type": "code",
   "execution_count": 22,
   "metadata": {},
   "outputs": [
    {
     "name": "stdout",
     "output_type": "stream",
     "text": [
      "WARNING *** file size (14240046) not 512 + multiple of sector size (512)\n"
     ]
    },
    {
     "data": {
      "text/html": [
       "<div>\n",
       "<style scoped>\n",
       "    .dataframe tbody tr th:only-of-type {\n",
       "        vertical-align: middle;\n",
       "    }\n",
       "\n",
       "    .dataframe tbody tr th {\n",
       "        vertical-align: top;\n",
       "    }\n",
       "\n",
       "    .dataframe thead th {\n",
       "        text-align: right;\n",
       "    }\n",
       "</style>\n",
       "<table border=\"1\" class=\"dataframe\">\n",
       "  <thead>\n",
       "    <tr style=\"text-align: right;\">\n",
       "      <th></th>\n",
       "      <th>순번</th>\n",
       "      <th>영업일</th>\n",
       "      <th>종목코드</th>\n",
       "      <th>종목명</th>\n",
       "      <th>통화단위</th>\n",
       "      <th>FULL기준가</th>\n",
       "      <th>기준가</th>\n",
       "      <th>증감</th>\n",
       "      <th>과표기준가</th>\n",
       "      <th>증감.1</th>\n",
       "      <th>비거주자과표기준가</th>\n",
       "      <th>증감.2</th>\n",
       "      <th>해외비과세과표기준가</th>\n",
       "      <th>증감.3</th>\n",
       "      <th>주식편입비율(%)</th>\n",
       "      <th>세금구분</th>\n",
       "      <th>세금우대과표기준가</th>\n",
       "      <th>펀드설정원본액</th>\n",
       "      <th>펀드순자산총액</th>\n",
       "      <th>적용법률</th>\n",
       "    </tr>\n",
       "  </thead>\n",
       "  <tbody>\n",
       "    <tr>\n",
       "      <th>0</th>\n",
       "      <td>1.0</td>\n",
       "      <td>20250124</td>\n",
       "      <td>KR5701000055</td>\n",
       "      <td>한국투자글로벌AI빅테크증권투자신탁1호(사모투자재간접형)(A)</td>\n",
       "      <td>KRW</td>\n",
       "      <td>1148.710000</td>\n",
       "      <td>1148.71</td>\n",
       "      <td>0.01</td>\n",
       "      <td>1154.60</td>\n",
       "      <td>0.03</td>\n",
       "      <td>1154.60</td>\n",
       "      <td>0.03</td>\n",
       "      <td>0.0</td>\n",
       "      <td>0.0</td>\n",
       "      <td>0.00</td>\n",
       "      <td>배당</td>\n",
       "      <td>0.0</td>\n",
       "      <td>39598419000</td>\n",
       "      <td>4.551822e+10</td>\n",
       "      <td>자본시장법</td>\n",
       "    </tr>\n",
       "    <tr>\n",
       "      <th>1</th>\n",
       "      <td>2.0</td>\n",
       "      <td>20250124</td>\n",
       "      <td>KR5701000063</td>\n",
       "      <td>한국투자글로벌AI빅테크증권투자신탁1호(사모투자재간접형)(A-e)</td>\n",
       "      <td>KRW</td>\n",
       "      <td>1153.160000</td>\n",
       "      <td>1153.16</td>\n",
       "      <td>0.02</td>\n",
       "      <td>1159.06</td>\n",
       "      <td>0.04</td>\n",
       "      <td>1159.06</td>\n",
       "      <td>0.04</td>\n",
       "      <td>0.0</td>\n",
       "      <td>0.0</td>\n",
       "      <td>0.00</td>\n",
       "      <td>배당</td>\n",
       "      <td>0.0</td>\n",
       "      <td>39598419000</td>\n",
       "      <td>4.551822e+10</td>\n",
       "      <td>자본시장법</td>\n",
       "    </tr>\n",
       "    <tr>\n",
       "      <th>2</th>\n",
       "      <td>3.0</td>\n",
       "      <td>20250124</td>\n",
       "      <td>KR5701000071</td>\n",
       "      <td>한국투자글로벌AI빅테크증권투자신탁2호(사모투자재간접형)(A)</td>\n",
       "      <td>KRW</td>\n",
       "      <td>1148.590000</td>\n",
       "      <td>1148.59</td>\n",
       "      <td>0.01</td>\n",
       "      <td>1154.47</td>\n",
       "      <td>0.03</td>\n",
       "      <td>1154.47</td>\n",
       "      <td>0.03</td>\n",
       "      <td>0.0</td>\n",
       "      <td>0.0</td>\n",
       "      <td>0.00</td>\n",
       "      <td>배당</td>\n",
       "      <td>0.0</td>\n",
       "      <td>39848700000</td>\n",
       "      <td>4.590298e+10</td>\n",
       "      <td>자본시장법</td>\n",
       "    </tr>\n",
       "    <tr>\n",
       "      <th>3</th>\n",
       "      <td>4.0</td>\n",
       "      <td>20250124</td>\n",
       "      <td>KR5701000089</td>\n",
       "      <td>한국투자글로벌AI빅테크증권투자신탁2호(사모투자재간접형)(A-e)</td>\n",
       "      <td>KRW</td>\n",
       "      <td>1153.080000</td>\n",
       "      <td>1153.08</td>\n",
       "      <td>0.02</td>\n",
       "      <td>1158.97</td>\n",
       "      <td>0.04</td>\n",
       "      <td>1158.97</td>\n",
       "      <td>0.04</td>\n",
       "      <td>0.0</td>\n",
       "      <td>0.0</td>\n",
       "      <td>0.00</td>\n",
       "      <td>배당</td>\n",
       "      <td>0.0</td>\n",
       "      <td>39848700000</td>\n",
       "      <td>4.590298e+10</td>\n",
       "      <td>자본시장법</td>\n",
       "    </tr>\n",
       "    <tr>\n",
       "      <th>4</th>\n",
       "      <td>5.0</td>\n",
       "      <td>20250124</td>\n",
       "      <td>KR5701000097</td>\n",
       "      <td>한국투자삼성그룹성장테마증권투자신탁1호(사모투자재간접형)(A)</td>\n",
       "      <td>KRW</td>\n",
       "      <td>1017.120000</td>\n",
       "      <td>1017.12</td>\n",
       "      <td>0.99</td>\n",
       "      <td>1097.46</td>\n",
       "      <td>-9.70</td>\n",
       "      <td>1097.46</td>\n",
       "      <td>-9.70</td>\n",
       "      <td>0.0</td>\n",
       "      <td>0.0</td>\n",
       "      <td>0.00</td>\n",
       "      <td>배당</td>\n",
       "      <td>0.0</td>\n",
       "      <td>28846677000</td>\n",
       "      <td>2.937811e+10</td>\n",
       "      <td>자본시장법</td>\n",
       "    </tr>\n",
       "    <tr>\n",
       "      <th>...</th>\n",
       "      <td>...</td>\n",
       "      <td>...</td>\n",
       "      <td>...</td>\n",
       "      <td>...</td>\n",
       "      <td>...</td>\n",
       "      <td>...</td>\n",
       "      <td>...</td>\n",
       "      <td>...</td>\n",
       "      <td>...</td>\n",
       "      <td>...</td>\n",
       "      <td>...</td>\n",
       "      <td>...</td>\n",
       "      <td>...</td>\n",
       "      <td>...</td>\n",
       "      <td>...</td>\n",
       "      <td>...</td>\n",
       "      <td>...</td>\n",
       "      <td>...</td>\n",
       "      <td>...</td>\n",
       "      <td>...</td>\n",
       "    </tr>\n",
       "    <tr>\n",
       "      <th>40289</th>\n",
       "      <td>40290.0</td>\n",
       "      <td>20250124</td>\n",
       "      <td>KRZ702617700</td>\n",
       "      <td>제네시스제1호부동산일반사모투자회사</td>\n",
       "      <td>KRW</td>\n",
       "      <td>1000.000000</td>\n",
       "      <td>1000.00</td>\n",
       "      <td>1000.00</td>\n",
       "      <td>1000.00</td>\n",
       "      <td>1000.00</td>\n",
       "      <td>0.00</td>\n",
       "      <td>0.00</td>\n",
       "      <td>0.0</td>\n",
       "      <td>0.0</td>\n",
       "      <td>0.00</td>\n",
       "      <td>배당</td>\n",
       "      <td>0.0</td>\n",
       "      <td>100000000</td>\n",
       "      <td>1.000000e+08</td>\n",
       "      <td>자본시장법</td>\n",
       "    </tr>\n",
       "    <tr>\n",
       "      <th>40290</th>\n",
       "      <td>40291.0</td>\n",
       "      <td>20250124</td>\n",
       "      <td>KRZ702617830</td>\n",
       "      <td>한국상조공제조합 일임형 7</td>\n",
       "      <td>KRW</td>\n",
       "      <td>1000.180000</td>\n",
       "      <td>1000.18</td>\n",
       "      <td>0.10</td>\n",
       "      <td>1000.18</td>\n",
       "      <td>0.10</td>\n",
       "      <td>0.00</td>\n",
       "      <td>0.00</td>\n",
       "      <td>0.0</td>\n",
       "      <td>0.0</td>\n",
       "      <td>0.00</td>\n",
       "      <td>배당</td>\n",
       "      <td>0.0</td>\n",
       "      <td>10000000000</td>\n",
       "      <td>1.000180e+10</td>\n",
       "      <td>자본시장법</td>\n",
       "    </tr>\n",
       "    <tr>\n",
       "      <th>40291</th>\n",
       "      <td>40292.0</td>\n",
       "      <td>20250124</td>\n",
       "      <td>KRZ702617990</td>\n",
       "      <td>한국투자증권 해외사모투자(Baring)</td>\n",
       "      <td>KRW</td>\n",
       "      <td>1000.000000</td>\n",
       "      <td>1000.00</td>\n",
       "      <td>0.00</td>\n",
       "      <td>1000.00</td>\n",
       "      <td>0.00</td>\n",
       "      <td>0.00</td>\n",
       "      <td>0.00</td>\n",
       "      <td>0.0</td>\n",
       "      <td>0.0</td>\n",
       "      <td>0.00</td>\n",
       "      <td>배당</td>\n",
       "      <td>0.0</td>\n",
       "      <td>0</td>\n",
       "      <td>0.000000e+00</td>\n",
       "      <td>자본시장법</td>\n",
       "    </tr>\n",
       "    <tr>\n",
       "      <th>40292</th>\n",
       "      <td>40293.0</td>\n",
       "      <td>20250124</td>\n",
       "      <td>KRZ7A2277871</td>\n",
       "      <td>케이씨지아이더우먼증권투자회사[주식]종류A</td>\n",
       "      <td>KRW</td>\n",
       "      <td>855.421864</td>\n",
       "      <td>855.42</td>\n",
       "      <td>-13.57</td>\n",
       "      <td>1001.57</td>\n",
       "      <td>-0.04</td>\n",
       "      <td>1001.57</td>\n",
       "      <td>-0.04</td>\n",
       "      <td>0.0</td>\n",
       "      <td>0.0</td>\n",
       "      <td>95.79</td>\n",
       "      <td>배당</td>\n",
       "      <td>0.0</td>\n",
       "      <td>19341839085</td>\n",
       "      <td>1.656745e+10</td>\n",
       "      <td>자본시장법</td>\n",
       "    </tr>\n",
       "    <tr>\n",
       "      <th>40293</th>\n",
       "      <td>NaN</td>\n",
       "      <td>합계</td>\n",
       "      <td>NaN</td>\n",
       "      <td>NaN</td>\n",
       "      <td>NaN</td>\n",
       "      <td>NaN</td>\n",
       "      <td>NaN</td>\n",
       "      <td>NaN</td>\n",
       "      <td>NaN</td>\n",
       "      <td>NaN</td>\n",
       "      <td>NaN</td>\n",
       "      <td>NaN</td>\n",
       "      <td>NaN</td>\n",
       "      <td>NaN</td>\n",
       "      <td>NaN</td>\n",
       "      <td>NaN</td>\n",
       "      <td>NaN</td>\n",
       "      <td>2690681345845893</td>\n",
       "      <td>3.133082e+15</td>\n",
       "      <td>NaN</td>\n",
       "    </tr>\n",
       "  </tbody>\n",
       "</table>\n",
       "<p>40294 rows × 20 columns</p>\n",
       "</div>"
      ],
      "text/plain": [
       "            순번       영업일          종목코드                                  종목명  \\\n",
       "0          1.0  20250124  KR5701000055    한국투자글로벌AI빅테크증권투자신탁1호(사모투자재간접형)(A)   \n",
       "1          2.0  20250124  KR5701000063  한국투자글로벌AI빅테크증권투자신탁1호(사모투자재간접형)(A-e)   \n",
       "2          3.0  20250124  KR5701000071    한국투자글로벌AI빅테크증권투자신탁2호(사모투자재간접형)(A)   \n",
       "3          4.0  20250124  KR5701000089  한국투자글로벌AI빅테크증권투자신탁2호(사모투자재간접형)(A-e)   \n",
       "4          5.0  20250124  KR5701000097    한국투자삼성그룹성장테마증권투자신탁1호(사모투자재간접형)(A)   \n",
       "...        ...       ...           ...                                  ...   \n",
       "40289  40290.0  20250124  KRZ702617700                   제네시스제1호부동산일반사모투자회사   \n",
       "40290  40291.0  20250124  KRZ702617830                       한국상조공제조합 일임형 7   \n",
       "40291  40292.0  20250124  KRZ702617990                한국투자증권 해외사모투자(Baring)   \n",
       "40292  40293.0  20250124  KRZ7A2277871               케이씨지아이더우먼증권투자회사[주식]종류A   \n",
       "40293      NaN        합계           NaN                                  NaN   \n",
       "\n",
       "      통화단위      FULL기준가      기준가       증감    과표기준가     증감.1  비거주자과표기준가  증감.2  \\\n",
       "0      KRW  1148.710000  1148.71     0.01  1154.60     0.03    1154.60  0.03   \n",
       "1      KRW  1153.160000  1153.16     0.02  1159.06     0.04    1159.06  0.04   \n",
       "2      KRW  1148.590000  1148.59     0.01  1154.47     0.03    1154.47  0.03   \n",
       "3      KRW  1153.080000  1153.08     0.02  1158.97     0.04    1158.97  0.04   \n",
       "4      KRW  1017.120000  1017.12     0.99  1097.46    -9.70    1097.46 -9.70   \n",
       "...    ...          ...      ...      ...      ...      ...        ...   ...   \n",
       "40289  KRW  1000.000000  1000.00  1000.00  1000.00  1000.00       0.00  0.00   \n",
       "40290  KRW  1000.180000  1000.18     0.10  1000.18     0.10       0.00  0.00   \n",
       "40291  KRW  1000.000000  1000.00     0.00  1000.00     0.00       0.00  0.00   \n",
       "40292  KRW   855.421864   855.42   -13.57  1001.57    -0.04    1001.57 -0.04   \n",
       "40293  NaN          NaN      NaN      NaN      NaN      NaN        NaN   NaN   \n",
       "\n",
       "       해외비과세과표기준가  증감.3  주식편입비율(%) 세금구분  세금우대과표기준가           펀드설정원본액  \\\n",
       "0             0.0   0.0       0.00   배당        0.0       39598419000   \n",
       "1             0.0   0.0       0.00   배당        0.0       39598419000   \n",
       "2             0.0   0.0       0.00   배당        0.0       39848700000   \n",
       "3             0.0   0.0       0.00   배당        0.0       39848700000   \n",
       "4             0.0   0.0       0.00   배당        0.0       28846677000   \n",
       "...           ...   ...        ...  ...        ...               ...   \n",
       "40289         0.0   0.0       0.00   배당        0.0         100000000   \n",
       "40290         0.0   0.0       0.00   배당        0.0       10000000000   \n",
       "40291         0.0   0.0       0.00   배당        0.0                 0   \n",
       "40292         0.0   0.0      95.79   배당        0.0       19341839085   \n",
       "40293         NaN   NaN        NaN  NaN        NaN  2690681345845893   \n",
       "\n",
       "            펀드순자산총액   적용법률  \n",
       "0      4.551822e+10  자본시장법  \n",
       "1      4.551822e+10  자본시장법  \n",
       "2      4.590298e+10  자본시장법  \n",
       "3      4.590298e+10  자본시장법  \n",
       "4      2.937811e+10  자본시장법  \n",
       "...             ...    ...  \n",
       "40289  1.000000e+08  자본시장법  \n",
       "40290  1.000180e+10  자본시장법  \n",
       "40291  0.000000e+00  자본시장법  \n",
       "40292  1.656745e+10  자본시장법  \n",
       "40293  3.133082e+15    NaN  \n",
       "\n",
       "[40294 rows x 20 columns]"
      ]
     },
     "execution_count": 22,
     "metadata": {},
     "output_type": "execute_result"
    }
   ],
   "source": [
    "df = open_excel_as_df(filepath)\n",
    "df"
   ]
  },
  {
   "cell_type": "code",
   "execution_count": 24,
   "metadata": {},
   "outputs": [
    {
     "data": {
      "text/plain": [
       "'BCI_REDM08003V_20250124190413.xls'"
      ]
     },
     "execution_count": 24,
     "metadata": {},
     "output_type": "execute_result"
    }
   ],
   "source": [
    "filenames[0]"
   ]
  },
  {
   "cell_type": "code",
   "execution_count": 33,
   "metadata": {},
   "outputs": [],
   "source": [
    "def get_date_ref_from_df(df):\n",
    "    date = df['영업일'].unique()[0]\n",
    "    return date\n",
    "\n",
    "def get_date_save_from_file_name(file_name):\n",
    "    date_save = file_name.split('_')[-1].replace('.xls', '')[:10]\n",
    "    return date_save"
   ]
  },
  {
   "cell_type": "code",
   "execution_count": 35,
   "metadata": {},
   "outputs": [],
   "source": []
  },
  {
   "cell_type": "code",
   "execution_count": null,
   "metadata": {},
   "outputs": [],
   "source": []
  }
 ],
 "metadata": {
  "kernelspec": {
   "display_name": "env-esafe",
   "language": "python",
   "name": "python3"
  },
  "language_info": {
   "codemirror_mode": {
    "name": "ipython",
    "version": 3
   },
   "file_extension": ".py",
   "mimetype": "text/x-python",
   "name": "python",
   "nbconvert_exporter": "python",
   "pygments_lexer": "ipython3",
   "version": "3.12.4"
  }
 },
 "nbformat": 4,
 "nbformat_minor": 4
}
